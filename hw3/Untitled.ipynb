{
 "cells": [
  {
   "cell_type": "code",
   "execution_count": 8,
   "metadata": {},
   "outputs": [
    {
     "name": "stdout",
     "output_type": "stream",
     "text": [
      "{'chain': [{'hash': '2e7dfb8533e69b0a61b025805c03ba932bb850dd0b366946d9b5177466e786a5',\n",
      "            'index': 0,\n",
      "            'nonce': 0,\n",
      "            'previous_hash': '0',\n",
      "            'timestamp': 1630674698.8567271,\n",
      "            'transactions': []},\n",
      "           {'hash': '0003138e3ce47023c87610c313ad577381682aa6da372a4707c863ebcf62950b',\n",
      "            'index': 1,\n",
      "            'nonce': 333,\n",
      "            'previous_hash': '2e7dfb8533e69b0a61b025805c03ba932bb850dd0b366946d9b5177466e786a5',\n",
      "            'timestamp': 1630674698.8571892,\n",
      "            'transactions': [['Alice', 'Bob', 3.5, 0.1],\n",
      "                             ['Bob', 'Sami', 2.1, 0.1],\n",
      "                             ['Sami', 'Alice', 2, 0.1]]}],\n",
      " 'length': 2}\n"
     ]
    }
   ],
   "source": [
    "import requests\n",
    "from pprint import pprint\n",
    "\n",
    "res = requests.get('http://127.0.0.1:5001/chain')\n",
    "pprint(res.json())"
   ]
  },
  {
   "cell_type": "code",
   "execution_count": null,
   "metadata": {},
   "outputs": [],
   "source": []
  }
 ],
 "metadata": {
  "kernelspec": {
   "display_name": "Python 3",
   "language": "python",
   "name": "python3"
  },
  "language_info": {
   "codemirror_mode": {
    "name": "ipython",
    "version": 3
   },
   "file_extension": ".py",
   "mimetype": "text/x-python",
   "name": "python",
   "nbconvert_exporter": "python",
   "pygments_lexer": "ipython3",
   "version": "3.9.5"
  }
 },
 "nbformat": 4,
 "nbformat_minor": 4
}
